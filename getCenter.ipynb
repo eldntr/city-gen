{
 "cells": [
  {
   "cell_type": "code",
   "execution_count": 5,
   "metadata": {},
   "outputs": [
    {
     "name": "stdout",
     "output_type": "stream",
     "text": [
      "Koordinat Pusat:\n",
      "Latitude: 48.85530405243387\n",
      "Longitude: 2.295455689752966\n"
     ]
    }
   ],
   "source": [
    "import json\n",
    "from shapely.geometry import shape\n",
    "from shapely.ops import unary_union\n",
    "\n",
    "# Membaca file GeoJSON dengan encoding UTF-8\n",
    "with open('public\\\\sample\\\\Eiffel Area.geojson', 'r', encoding='utf-8') as f:\n",
    "    geojson_data = json.load(f)\n",
    "\n",
    "# Mengumpulkan semua geometris\n",
    "geometries = [shape(feature['geometry']) for feature in geojson_data['features']]\n",
    "\n",
    "# Menggabungkan semua geometris menjadi satu menggunakan unary_union\n",
    "combined = unary_union(geometries)\n",
    "\n",
    "# Mendapatkan titik pusat\n",
    "center = combined.centroid\n",
    "\n",
    "print(\"Koordinat Pusat:\")\n",
    "print(\"Latitude:\", center.y)\n",
    "print(\"Longitude:\", center.x)\n"
   ]
  }
 ],
 "metadata": {
  "kernelspec": {
   "display_name": "Python 3",
   "language": "python",
   "name": "python3"
  },
  "language_info": {
   "codemirror_mode": {
    "name": "ipython",
    "version": 3
   },
   "file_extension": ".py",
   "mimetype": "text/x-python",
   "name": "python",
   "nbconvert_exporter": "python",
   "pygments_lexer": "ipython3",
   "version": "3.12.7"
  }
 },
 "nbformat": 4,
 "nbformat_minor": 2
}
